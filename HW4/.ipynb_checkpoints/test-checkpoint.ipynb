{
 "cells": [
  {
   "cell_type": "code",
   "metadata": {},
   "source": [
    "import java.util.*;\n",
    "\n",
    "public abstract class Cell {\n",
    "    private boolean isMarked;\n",
    "    private ArrayList<Cell> neighbors;\n",
    "\n",
    "    Cell() {\n",
    "        isMarked = false;\n",
    "        neighbors = new ArrayList<>();\n",
    "    }\n",
    "\n",
    "    boolean isMarked() { return isMarked; }\n",
    "    void setMarked(boolean b) { isMarked = b; }\n",
    "    abstract boolean searchPath();\n",
    "}\n",
    "\n",
    "Cell test = new Cell() {\n",
    "    boolean searchPath() { return true; }\n",
    "};\n",
    "System.out.println(test.isMarked());\n"
   ]
  }
 ],
 "metadata": {
  "kernelspec": {
   "display_name": "Java",
   "language": "java",
   "name": "java"
  }
 },
 "nbformat": 4,
 "nbformat_minor": 5
}